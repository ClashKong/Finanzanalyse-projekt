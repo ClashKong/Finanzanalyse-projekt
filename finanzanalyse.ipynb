{
 "cells": [
  {
   "cell_type": "code",
   "execution_count": null,
   "id": "66b80a1e-4ab3-4573-a6b8-242cb49f0d65",
   "metadata": {},
   "outputs": [],
   "source": [
    "import pandas as pd\n",
    "from src.fetch_data import fetch_yahoo_data\n",
    "from src.preprocess import preprocess_data\n",
    "from src.analysis import calculate_moving_averages, run_arima_model\n",
    "from src.visualize import plot_stock_prices, plot_daily_returns\n",
    "\n",
    "# Aktien-Ticker\n",
    "ticker = \"AAPL\"\n",
    "\n",
    "# Daten abrufen & bereinigen\n",
    "df = fetch_yahoo_data(ticker)\n",
    "df = preprocess_data(df)\n",
    "df = calculate_moving_averages(df)\n",
    "\n",
    "df.head()  # Zeigt die ersten 5 Zeilen\n"
   ]
  },
  {
   "cell_type": "code",
   "execution_count": null,
   "id": "326a1e42-66de-409f-a98c-aab902ac2901",
   "metadata": {},
   "outputs": [],
   "source": [
    "df.describe()  # Zeigt Statistiken wie Mittelwert, Min, Max usw.\n"
   ]
  },
  {
   "cell_type": "code",
   "execution_count": null,
   "id": "fa697f8b-9dca-41e7-96fa-ab8e17f954bc",
   "metadata": {},
   "outputs": [],
   "source": [
    "arima_result = run_arima_model(df)\n",
    "print(arima_result)  # Zeigt ARIMA-Modell-Ergebnisse\n"
   ]
  },
  {
   "cell_type": "code",
   "execution_count": null,
   "id": "45d1e6c3-8786-4c04-9ca0-5d120a7c6af9",
   "metadata": {},
   "outputs": [],
   "source": [
    "plot_stock_prices(df, ticker)\n"
   ]
  },
  {
   "cell_type": "code",
   "execution_count": null,
   "id": "f14228c8-79ce-4d09-927e-4eee25c06f50",
   "metadata": {},
   "outputs": [],
   "source": [
    "plot_daily_returns(df)\n"
   ]
  }
 ],
 "metadata": {
  "kernelspec": {
   "display_name": "Python 3 (ipykernel)",
   "language": "python",
   "name": "python3"
  },
  "language_info": {
   "codemirror_mode": {
    "name": "ipython",
    "version": 3
   },
   "file_extension": ".py",
   "mimetype": "text/x-python",
   "name": "python",
   "nbconvert_exporter": "python",
   "pygments_lexer": "ipython3",
   "version": "3.12.7"
  }
 },
 "nbformat": 4,
 "nbformat_minor": 5
}
