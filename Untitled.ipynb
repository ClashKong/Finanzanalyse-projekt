{
 "cells": [
  {
   "cell_type": "code",
   "execution_count": null,
   "id": "66b80a1e-4ab3-4573-a6b8-242cb49f0d65",
   "metadata": {},
   "outputs": [],
   "source": []
  }
 ],
 "metadata": {
  "kernelspec": {
   "display_name": "",
   "name": ""
  },
  "language_info": {
   "name": ""
  }
 },
 "nbformat": 4,
 "nbformat_minor": 5
}
